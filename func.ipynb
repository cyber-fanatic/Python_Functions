{
 "cells": [
  {
   "cell_type": "markdown",
   "metadata": {},
   "source": [
    "# functions in python:"
   ]
  },
  {
   "cell_type": "code",
   "execution_count": 18,
   "metadata": {},
   "outputs": [],
   "source": [
    "def name(f_name,l_name):\n",
    "    return (f\"My name is {f_name.upper()} {l_name.upper()}\")"
   ]
  },
  {
   "cell_type": "code",
   "execution_count": 19,
   "metadata": {},
   "outputs": [
    {
     "data": {
      "text/plain": [
       "'My name is INAM UL HAQ'"
      ]
     },
     "execution_count": 19,
     "metadata": {},
     "output_type": "execute_result"
    }
   ],
   "source": [
    "name(\"inam\",\"ul haq\")"
   ]
  },
  {
   "cell_type": "code",
   "execution_count": 63,
   "metadata": {},
   "outputs": [],
   "source": [
    "lis = [1,2,3,4,5]\n",
    "def sqrt():\n",
    "    lis_1 = [nums**2 for nums in lis] # by using  list comprehensions\n",
    "    return (lis_1)"
   ]
  },
  {
   "cell_type": "code",
   "execution_count": 64,
   "metadata": {},
   "outputs": [
    {
     "data": {
      "text/plain": [
       "[1, 4, 9, 16, 25]"
      ]
     },
     "execution_count": 64,
     "metadata": {},
     "output_type": "execute_result"
    }
   ],
   "source": [
    "sqrt()"
   ]
  },
  {
   "cell_type": "markdown",
   "metadata": {},
   "source": [
     
   ]
  },
  {
   "cell_type": "markdown",
   "metadata": {},
   "source": [
    "# print()"
   ]
  },
  {
   "cell_type": "code",
   "execution_count": 75,
   "metadata": {},
   "outputs": [
    {
     "name": "stdout",
     "output_type": "stream",
     "text": [
      "my name is sherry mughal\n"
     ]
    }
   ],
   "source": [
    "#example of using print in function:\n",
    "\n",
    "def name(f_name,l_name):\n",
    "    print(f\"my name is {f_name} {l_name}\")\n",
    "\n",
    "# name(\"sherry\",\"mughal\") # call the func()\n",
    "\n",
    "result = name(\"sherry\",\"mughal\") #assign varible called full_name to the result of function called name()\n"
   ]
  },
  {
   "cell_type": "code",
   "execution_count": 74,
   "metadata": {},
   "outputs": [
    {
     "name": "stdout",
     "output_type": "stream",
     "text": [
      "None\n"
     ]
    },
    {
     "data": {
      "text/plain": [
       "NoneType"
      ]
     },
     "execution_count": 74,
     "metadata": {},
     "output_type": "execute_result"
    }
   ],
   "source": [
    "print(result) #print variable called result which holds the output of name() function but it give none.\n",
    "\n",
    "type(result) #check the type of result variable.\n"
   ]
  },
  {
   "cell_type": "markdown",
   "metadata": {},
   "source": [
    "# return()"
   ]
  },
  {
   "cell_type": "code",
   "execution_count": 77,
   "metadata": {},
   "outputs": [],
   "source": [
    "#example of using return() in function:\n",
    "\n",
    "def name(f_name,l_name):\n",
    "    return(f\"my name is {f_name} {l_name}\")\n",
    "\n",
    "# name(\"sherry\",\"mughal\") # call the func()\n",
    "\n",
    "result = name(\"sherry\",\"mughal\") #assign varible called full_name to the result of function called name()\n"
   ]
  },
  {
   "cell_type": "code",
   "execution_count": 79,
   "metadata": {},
   "outputs": [
    {
     "name": "stdout",
     "output_type": "stream",
     "text": [
      "my name is sherry mughal\n"
     ]
    },
    {
     "data": {
      "text/plain": [
       "str"
      ]
     },
     "execution_count": 79,
     "metadata": {},
     "output_type": "execute_result"
    }
   ],
   "source": [
    "print(result) #print var called result which holds the output of name() function but the diffrence is it return the output stored in result var.\n",
    "\n",
    "type(result) #check type.it return us default string type of var result."
   ]
  },
  {
   "cell_type": "code",
   "execution_count": 78,
   "metadata": {},
   "outputs": [],
   "source": [
    "# return true if any number is even inside list\n",
    "\n",
    "def check_even (num_lis):\n",
    "    even = []\n",
    "    for nums in num_lis:\n",
    "        if nums % 2 == 0:\n",
    "            even.append(nums)\n",
    "            even.sort()         \n",
    "        else:\n",
    "            pass\n",
    "    return(even)"
   ]
  },
  {
   "cell_type": "code",
   "execution_count": 79,
   "metadata": {},
   "outputs": [
    {
     "data": {
      "text/plain": [
       "[2, 6]"
      ]
     },
     "execution_count": 79,
     "metadata": {},
     "output_type": "execute_result"
    }
   ],
   "source": [
    "check_even([1,3,5,6,7,9,11,2,4,6])"
   ]
  },
  {
   "cell_type": "code",
   "execution_count": 2,
   "metadata": {},
   "outputs": [],
   "source": [
    "# tuple unpacking with  functions:\n",
    "\n",
    "def highest_item(lis=[('Apple',100),('Banana',200),('Peach',500),('Mango',800)]):\n",
    "    h_price = 0\n",
    "    item_name = ''\n",
    "    for i,p in lis:\n",
    "        if p > h_price:\n",
    "            h_price = p\n",
    "            item_name = i\n",
    "    return item_name,h_price\n",
    "result = highest_item()"
   ]
  },
  {
   "cell_type": "code",
   "execution_count": 3,
   "metadata": {},
   "outputs": [
    {
     "data": {
      "text/plain": [
       "('Mango', 800)"
      ]
     },
     "execution_count": 3,
     "metadata": {},
     "output_type": "execute_result"
    }
   ],
   "source": [
    "result # highest price fruit in list."
   ]
  },
  {
   "cell_type": "code",
   "execution_count": 4,
   "metadata": {},
   "outputs": [],
   "source": [
    "fruit,price = highest_item() # tuple unpacking of function result acces fruit name and price."
   ]
  },
  {
   "cell_type": "code",
   "execution_count": 8,
   "metadata": {},
   "outputs": [
    {
     "data": {
      "text/plain": [
       "800"
      ]
     },
     "execution_count": 8,
     "metadata": {},
     "output_type": "execute_result"
    }
   ],
   "source": [
    "price # access price using price variable."
   ]
  },
  {
   "cell_type": "code",
   "execution_count": 7,
   "metadata": {},
   "outputs": [
    {
     "data": {
      "text/plain": [
       "'Mango'"
      ]
     },
     "execution_count": 7,
     "metadata": {},
     "output_type": "execute_result"
    }
   ],
   "source": [
    "fruit # access fruit using fruit  variable."
   ]
  },
  {
   "cell_type": "markdown",
   "metadata": {},
   "source": [
    "# interaction between python functions:"
   ]
  },
  {
   "cell_type": "code",
   "execution_count": 14,
   "metadata": {},
   "outputs": [],
   "source": [
    "from random import shuffle # import shuffle function from random librarey\n",
    "lis = [1,2,3,4,5,6,7] \n",
    "shuffle(lis) # shuffle function shuffled the lis\n",
    "shuffled_lis = shuffle(lis) # you can't assign the varible to shuffle() function"
   ]
  },
  {
   "cell_type": "code",
   "execution_count": 18,
   "metadata": {},
   "outputs": [],
   "source": [
    "shuffled_lis # notice shuffled_lis retun noting.\n",
    "\n",
    "# to store the shuffled(lis) result in variable we use function()."
   ]
  },
  {
   "cell_type": "code",
   "execution_count": 33,
   "metadata": {},
   "outputs": [],
   "source": [
    "from random import shuffle\n",
    "def shuffled_lis(my_lis = [1,2,3,4,5,6,7]): #declare fun named shuffled_lis having argument my_lis\n",
    "    shuffle(my_lis) # shuffle() function to shuffle my_lis\n",
    "    return my_lis # return shuffled lis\n",
    "\n",
    "my_shuffled_lis = shuffled_lis()#using return in function i'm able to stored the result of  shuffled_lis "
   ]
  },
  {
   "cell_type": "code",
   "execution_count": 40,
   "metadata": {},
   "outputs": [
    {
     "data": {
      "text/plain": [
       "[1, 2, 6, 3, 7, 4, 5]"
      ]
     },
     "execution_count": 40,
     "metadata": {},
     "output_type": "execute_result"
    }
   ],
   "source": [
    "my_shuffled_lis = shuffled_lis()\n",
    "my_shuffled_lis"
   ]
  },
  {
   "cell_type": "markdown",
   "metadata": {},
   "source": [
    "# simple guess game example of function interactions: "
   ]
  },
  {
   "cell_type": "code",
   "execution_count": 124,
   "metadata": {},
   "outputs": [],
   "source": [
    "from random import shuffle\n",
    "def shuffled_lis(my_lis = ['o','','']):\n",
    "    shuffle(my_lis) \n",
    "    return my_lis"
   ]
  },
  {
   "cell_type": "code",
   "execution_count": 118,
   "metadata": {},
   "outputs": [],
   "source": [
    "# my_lis = ['','','o']"
   ]
  },
  {
   "cell_type": "code",
   "execution_count": 101,
   "metadata": {},
   "outputs": [
    {
     "data": {
      "text/plain": [
       "['', 'o', '']"
      ]
     },
     "execution_count": 101,
     "metadata": {},
     "output_type": "execute_result"
    }
   ],
   "source": [
    "# shuffled_lis(my_lis)"
   ]
  },
  {
   "cell_type": "code",
   "execution_count": 126,
   "metadata": {},
   "outputs": [],
   "source": [
    "# take input from user to guess a number.\n",
    "\n",
    "def guess():\n",
    "    guess=\"\"\n",
    "    while guess not in ['0','1','2']:\n",
    "        guess = input(\"chose any number from these 0,1,2 : \")\n",
    "    return int(guess)"
   ]
  },
  {
   "cell_type": "code",
   "execution_count": 98,
   "metadata": {},
   "outputs": [],
   "source": [
    "# my_index = guess()"
   ]
  },
  {
   "cell_type": "code",
   "execution_count": 99,
   "metadata": {},
   "outputs": [
    {
     "data": {
      "text/plain": [
       "2"
      ]
     },
     "execution_count": 99,
     "metadata": {},
     "output_type": "execute_result"
    }
   ],
   "source": [
    "# my_index "
   ]
  },
  {
   "cell_type": "code",
   "execution_count": 127,
   "metadata": {},
   "outputs": [],
   "source": [
    "# check_guess() function, to check the player guess is correct or wrong\n",
    "\n",
    "def check_guess(my_lis,guess):\n",
    "    if my_lis[guess] == 'o':\n",
    "        print('Correct')\n",
    "    else:\n",
    "        print('Wrong Choice')\n",
    "        print(my_lis)"
   ]
  },
  {
   "cell_type": "code",
   "execution_count": 129,
   "metadata": {},
   "outputs": [
    {
     "ename": "TypeError",
     "evalue": "'int' object is not callable",
     "output_type": "error",
     "traceback": [
      "\u001b[0;31m---------------------------------------------------------------------------\u001b[0m",
      "\u001b[0;31mTypeError\u001b[0m                                 Traceback (most recent call last)",
      "Cell \u001b[0;32mIn[129], line 3\u001b[0m\n\u001b[1;32m      1\u001b[0m my_list \u001b[38;5;241m=\u001b[39m shuffled_lis(my_lis)\n\u001b[0;32m----> 3\u001b[0m guess \u001b[38;5;241m=\u001b[39m \u001b[43mguess\u001b[49m\u001b[43m(\u001b[49m\u001b[43m)\u001b[49m\n\u001b[1;32m      5\u001b[0m check_guess(my_list,guess)\n",
      "\u001b[0;31mTypeError\u001b[0m: 'int' object is not callable"
     ]
    }
   ],
   "source": [
    "\n",
    "my_list = shuffled_lis(my_lis)\n",
    "\n",
    "guess = guess()\n",
    "\n",
    "check_guess(my_list,guess)"
   ]
  },
  {
   "cell_type": "markdown",
   "metadata": {},
   "source": [
    "# combine all funtions in one cell."
   ]
  },
  {
   "cell_type": "code",
   "execution_count": 89,
   "metadata": {},
   "outputs": [],
   "source": [
    "from random import shuffle\n",
    "# create function that shuffle the my_lis\n",
    "def shuffled_lis(my_lis = ['Find Me','','','']):\n",
    "    shuffle(my_lis) \n",
    "    return my_lis\n",
    "\n",
    "# take input from user to guess a number.\n",
    "\n",
    "def guess():\n",
    "    guess=\"\"\n",
    "    while guess not in ['0','1','2','3']:\n",
    "        guess = input(\"chose any number from these 0,1,2,3 : \")\n",
    "    return int(guess)\n",
    "\n",
    "# check_guess() function, to check the player guess is correct or wrong\n",
    "\n",
    "def check_guess(my_lis,guess):\n",
    "    if my_lis[guess] == 'Find Me':\n",
    "        print('You Won')\n",
    "        print(\"-----------------------------------------\")\n",
    "        print(my_lis)\n",
    "\n",
    "    else:\n",
    "        print('Ohh No You Losss..., Try Again.')\n",
    "        print(\"-----------------------------------------\")\n",
    "        print(f\"My correct location is : {my_lis}\")\n",
    "        \n",
    "\n",
    "# assign varible my_list to shuffled_lis() output. list is alredy provided in shuffled_lis()\n",
    "# my_list = shuffled_lis() \n",
    "\n",
    "\n",
    "# store int vale(0,1,2) in guess_num  variable that take from user in guess() function.\n",
    "# guess_num = guess()\n",
    "\n",
    "\n",
    "#finally check_guess() function is used to check that the index number in my_list is == 'o' or not.\n",
    "#check_guess() return output correct or wrong based on logic.\n",
    "#check_guess(my_list,guess_num)\n"
   ]
  },
  {
   "cell_type": "code",
   "execution_count": 90,
   "metadata": {},
   "outputs": [],
   "source": [
    "def play_game():\n",
    "    my_list = shuffled_lis()\n",
    "    guess_num = guess()\n",
    "    check_guess(my_list,guess_num)\n",
    "    print(\"-----------------------------------------\")\n",
    "    print('The number you selected is : ',guess_num)\n",
    "    return"
   ]
  },
  {
   "cell_type": "code",
   "execution_count": 94,
   "metadata": {},
   "outputs": [
    {
     "name": "stdout",
     "output_type": "stream",
     "text": [
      "You Won\n",
      "-----------------------------------------\n",
      "['', '', '', 'Find Me']\n",
      "-----------------------------------------\n",
      "The number you selected is :  3\n"
     ]
    }
   ],
   "source": [
    "play_game() #call the function and play game."
   ]
  },
  {
   "cell_type": "markdown",
   "metadata": {},
   "source": [
    "# map() , filter() functions   and lambda() expressions in python:"
   ]
  },
  {
   "cell_type": "markdown",
   "metadata": {},
   "source": [
    "# map()\n",
    "        instead of using for loop i can use map() function (python built in func) that iterate on each iterable in num_lis like for loop."
   ]
  },
  {
   "cell_type": "code",
   "execution_count": 49,
   "metadata": {},
   "outputs": [
    {
     "name": "stdout",
     "output_type": "stream",
     "text": [
      "[4, 9, 16, 25, 36]\n",
      "<map object at 0x7f6098516a40>\n",
      "4 9 16 25 36 "
     ]
    },
    {
     "data": {
      "text/plain": [
       "[1, 4, 9, 16, 25, 36, 49]"
      ]
     },
     "execution_count": 49,
     "metadata": {},
     "output_type": "execute_result"
    }
   ],
   "source": [
    "def square(num):        # function() that convert the number into it's square\n",
    "    return num**2 \n",
    "num_lis = [2,3,4,5,6]    # if i want to appy squre() on eact iterable in num_lis i need to apply for loop.\n",
    "\n",
    "# instead of using for loop i can use map() function (python built in func) that iterate on each iterable in num_lis like for loop.\n",
    "\n",
    "print(list (map(square,num_lis))) # achive using list method\n",
    "\n",
    "print (map(square,num_lis))           # this return object address. this object is also iterable we can use for loop to iterate over each item.\n",
    "\n",
    "for squre_nums in map(square,num_lis):\n",
    "    print(squre_nums,end=' ')\n",
    "\n",
    "\n",
    "# --------------------------------comperison--------------------------------\n",
    "\n",
    "\n",
    "# achive same thing using for loop . (for comperison purpose)\n",
    "new_lis = []\n",
    "def square_u_f(num_lis):            # _u_f means using for loop \n",
    "    for nums in num_lis:\n",
    "        new_lis.append(nums**2)\n",
    "    return new_lis\n",
    "\n",
    "num_lis = [1,2,3,4,5,6,7]\n",
    "\n",
    "square_u_f(num_lis)              #we can also achive this by using list comprehensions.\n",
    "\n",
    "#visulize code to see working :  https://pythontutor.com/visualize.html#mode=edit"
   ]
  },
  {
   "cell_type": "code",
   "execution_count": 44,
   "metadata": {},
   "outputs": [
    {
     "name": "stdout",
     "output_type": "stream",
     "text": [
      "1 4 9 16 25 36 49 64 81 100 "
     ]
    }
   ],
   "source": [
    "# another example of map().\n",
    "\n",
    "def square(num):# function() that convert the number into it's square\n",
    "    return num**2 \n",
    "\n",
    "# print (map(square,range(1,10)))\n",
    "\n",
    "for squre_nums in map(square,range(1,11)):# we  give range() as arguement of square() function\n",
    "\n",
    "    print(squre_nums,end=' ')"
   ]
  },
  {
   "cell_type": "markdown",
   "metadata": {},
   "source": [
    "# Diffrence between map() and filter():\n",
    "                    Remember you can not add boolean conditons in map() function because map() is used to iterate over each item and transform or modefy each item in given list.It return boolean True or Fale not transform item if some  boolean condition is given in function."
   ]
  },
  {
   "cell_type": "code",
   "execution_count": 53,
   "metadata": {},
   "outputs": [
    {
     "name": "stdout",
     "output_type": "stream",
     "text": [
      "[True, False, True, False, True]\n",
      "<map object at 0x7f6098526470>\n",
      "True False True False True "
     ]
    }
   ],
   "source": [
    "def square(num):# function() that convert the number into it's square\n",
    "\n",
    "    return num%2 == 0\n",
    " \n",
    "num_lis = [2,3,4,5,6] # if i want to appy squre() on eact iterable in num_lis i need to apply for loop.\n",
    "\n",
    "# instead of using for loop i can use map() function (python built in func) that iterate on each iterable in num_lis like for loop.\n",
    "\n",
    "print(list (map(square,num_lis))) # achive using list method\n",
    "\n",
    "print (map(square,num_lis)) # this return object address. this object is also iterable we can use for loop to iterate over each item.\n",
    "\n",
    "for squre_nums in map(square,num_lis):\n",
    "    print(squre_nums,end=' ')"
   ]
  },
  {
   "cell_type": "markdown",
   "metadata": {},
   "source": [
    "# filter() function:\n",
    "                   filter() take boolean conditions and retun  or pick items from list based on some condition.  "
   ]
  },
  {
   "cell_type": "code",
   "execution_count": 58,
   "metadata": {},
   "outputs": [
    {
     "name": "stdout",
     "output_type": "stream",
     "text": [
      "2\n",
      "4\n",
      "6\n",
      "8\n",
      "10\n"
     ]
    }
   ],
   "source": [
    "def even(num):\n",
    "        if num % 2 == 0 :     # to check the diffrence remove boolean condition and insert  num + 2 it return same list [1,2,3,4,5,6,7,8,9,10].\n",
    "                return num\n",
    "\n",
    "lis = [1,2,3,4,5,6,7,8,9,10]\n",
    "\n",
    "# list(filter(even,lis)) #transform in list.\n",
    "\n",
    "for evens in filter(even,lis):\n",
    "        print(evens)"
   ]
  },
  {
   "cell_type": "markdown",
   "metadata": {},
   "source": [
    "# lambda() expression:\n",
    "                     anonymous function which means have no name."
   ]
  },
  {
   "cell_type": "code",
   "execution_count": 100,
   "metadata": {},
   "outputs": [
    {
     "data": {
      "text/plain": [
       "3"
      ]
     },
     "execution_count": 100,
     "metadata": {},
     "output_type": "execute_result"
    }
   ],
   "source": [
    "# simple lambda expression\n",
    "\n",
    "add = lambda x : x+1   #variable x on left of colons called parameter and on right side we have expression.  \n",
    "\n",
    "add(2) #call lembda expression"
   ]
  },
  {
   "cell_type": "code",
   "execution_count": 105,
   "metadata": {},
   "outputs": [
    {
     "data": {
      "text/plain": [
       "50"
      ]
     },
     "execution_count": 105,
     "metadata": {},
     "output_type": "execute_result"
    }
   ],
   "source": [
    "# Example 1\n",
    "\n",
    "add_two_nums = lambda x,y : x + y\n",
    "\n",
    "add_two_nums(5,45)"
   ]
  },
  {
   "cell_type": "code",
   "execution_count": 108,
   "metadata": {},
   "outputs": [
    {
     "name": "stdout",
     "output_type": "stream",
     "text": [
      "1\n",
      "4\n",
      "9\n",
      "16\n",
      "25\n"
     ]
    }
   ],
   "source": [
    "lis = [1,2,3,4,5]\n",
    "# map(lambda x : x**2,lis)\n",
    "for i in map(lambda x : x**2,lis):\n",
    "    print(i)"
   ]
  },
  {
   "cell_type": "markdown",
   "metadata": {},
   "source": [
    "# reduce() function in python:\n",
    "                        this function is used to reduce the elements in a single element based on condition supplied in function() that is  given to reduce() function.  "
   ]
  },
  {
   "cell_type": "code",
   "execution_count": 25,
   "metadata": {},
   "outputs": [
    {
     "data": {
      "text/plain": [
       "30"
      ]
     },
     "execution_count": 25,
     "metadata": {},
     "output_type": "execute_result"
    }
   ],
   "source": [
    "from functools import reduce       #import reduce from functools librarey\n",
    "\n",
    "lis = [1,2,3,4,5,4,5,6]\n",
    "\n",
    "def sum(x,y):     #function() that is given to reduce() func  to perform task accordingly.\n",
    "    return x+y\n",
    "\n",
    "reduce(sum,lis)    # reduce(func_name,sequence)"
   ]
  },
  {
   "cell_type": "code",
   "execution_count": 5,
   "metadata": {},
   "outputs": [
    {
     "data": {
      "text/plain": [
       "-28"
      ]
     },
     "execution_count": 5,
     "metadata": {},
     "output_type": "execute_result"
    }
   ],
   "source": [
    "from functools import reduce       #import reduce from functools librarey\n",
    "\n",
    "lis = [1,2,3,4,5,4,5,6]\n",
    "\n",
    "reduce(lambda y,z : y-z ,lis) "
   ]
  },
  {
   "cell_type": "code",
   "execution_count": 27,
   "metadata": {},
   "outputs": [
    {
     "data": {
      "text/plain": [
       "120"
      ]
     },
     "execution_count": 27,
     "metadata": {},
     "output_type": "execute_result"
    }
   ],
   "source": [
    "from functools import reduce\n",
    "lis1=[1,2,3,4,5]\n",
    "def multiply(x,y):\n",
    "    return x*y\n",
    " \n",
    "reduce(multiply,lis1)"
   ]
  }
 ],
 "metadata": {
  "kernelspec": {
   "display_name": "base",
   "language": "python",
   "name": "python3"
  },
  "language_info": {
   "codemirror_mode": {
    "name": "ipython",
    "version": 3
   },
   "file_extension": ".py",
   "mimetype": "text/x-python",
   "name": "python",
   "nbconvert_exporter": "python",
   "pygments_lexer": "ipython3",
   "version": "3.11.8"
  }
 },
 "nbformat": 4,
 "nbformat_minor": 2
}
